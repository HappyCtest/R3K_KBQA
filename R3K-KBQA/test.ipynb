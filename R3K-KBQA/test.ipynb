{
 "cells": [
  {
   "cell_type": "code",
   "execution_count": 7,
   "metadata": {},
   "outputs": [],
   "source": [
    "from query_management import *"
   ]
  },
  {
   "cell_type": "code",
   "execution_count": 2,
   "metadata": {},
   "outputs": [],
   "source": [
    "manager = QueryManager()"
   ]
  },
  {
   "cell_type": "code",
   "execution_count": 6,
   "metadata": {},
   "outputs": [],
   "source": [
    "sen = '事件\"张角受仙人赠书点化\"出现在三国演义第几章节中？'"
   ]
  },
  {
   "cell_type": "code",
   "execution_count": 4,
   "metadata": {},
   "outputs": [
    {
     "name": "stdout",
     "output_type": "stream",
     "text": [
      "*************\n",
      "(1, {'event_name': '张角受仙人赠书点化'})\n",
      "\n",
      "prefix :      <http://ws.nju.edu.cn/tcqa#>\n",
      "prefix rdf:   <http://www.w3.org/1999/02/22-rdf-syntax-ns#>\n",
      "prefix owl:   <http://www.w3.org/2002/07/owl#>\n",
      "prefix xsd:   <http://www.w3.org/2001/XMLSchema#>\n",
      "prefix rdfs:  <http://www.w3.org/2000/01/rdf-schema#>\n",
      "\n",
      "        select distinct ?x from <http://localhost:8890/R3K>\n",
      "        where {\n",
      "            \n",
      "            ?a rdf:type :事件.\n",
      "            ?a :事件名 '张角受仙人赠书点化'.\n",
      "            ?a :章节 ?x.\n",
      "        \n",
      "        }\n",
      "    \n",
      "{'head': {'link': [], 'vars': ['x']}, 'results': {'distinct': False, 'ordered': True, 'bindings': [{'x': {'type': 'literal', 'value': '第1回第4段'}}]}}\n",
      "第1回第4段\n",
      "*************\n"
     ]
    }
   ],
   "source": [
    "manager.query(sen)"
   ]
  },
  {
   "cell_type": "code",
   "execution_count": 8,
   "metadata": {},
   "outputs": [],
   "source": [
    "import pyodbc"
   ]
  },
  {
   "cell_type": "code",
   "execution_count": 68,
   "metadata": {},
   "outputs": [],
   "source": [
    "cnxn = pyodbc.connect('DSN=Virtuoso;UID=dba;PWD=dba', unicode_results=True)"
   ]
  },
  {
   "cell_type": "code",
   "execution_count": 69,
   "metadata": {},
   "outputs": [],
   "source": [
    "cursor = cnxn.cursor()"
   ]
  },
  {
   "cell_type": "code",
   "execution_count": 26,
   "metadata": {},
   "outputs": [],
   "source": [
    "sparql = '''\n",
    "prefix :      <http://ws.nju.edu.cn/tcqa#>\n",
    "prefix rdf:   <http://www.w3.org/1999/02/22-rdf-syntax-ns#>\n",
    "prefix owl:   <http://www.w3.org/2002/07/owl#>\n",
    "prefix xsd:   <http://www.w3.org/2001/XMLSchema#>\n",
    "prefix rdfs:  <http://www.w3.org/2000/01/rdf-schema#>\n",
    "\n",
    "sparql select count(?x) where {\n",
    "\n",
    "    ?a rdf:type :势力.\n",
    "    ?a :势力名 :魏.\n",
    "    ?x :效忠势力 ?a.\n",
    "    ?x rdf:type :人物.\n",
    "\n",
    "}\n",
    "'''"
   ]
  },
  {
   "cell_type": "code",
   "execution_count": 71,
   "metadata": {},
   "outputs": [],
   "source": [
    "sparql = '''SPARQL SELECT distinct ?x \n",
    "from <http://localhost:8890/R3K>\n",
    "where {?x ?y ?z}'''"
   ]
  },
  {
   "cell_type": "code",
   "execution_count": 72,
   "metadata": {},
   "outputs": [],
   "source": [
    "with cnxn:\n",
    "    cursor.execute(sparql)"
   ]
  },
  {
   "cell_type": "code",
   "execution_count": 73,
   "metadata": {},
   "outputs": [],
   "source": [
    "rows = cursor.fetchall()"
   ]
  },
  {
   "cell_type": "code",
   "execution_count": 75,
   "metadata": {},
   "outputs": [
    {
     "ename": "AttributeError",
     "evalue": "'str' object has no attribute 'decode'",
     "output_type": "error",
     "traceback": [
      "\u001b[1;31m---------------------------------------------------------------------------\u001b[0m",
      "\u001b[1;31mAttributeError\u001b[0m                            Traceback (most recent call last)",
      "\u001b[1;32m<ipython-input-75-4066ea05a341>\u001b[0m in \u001b[0;36m<module>\u001b[1;34m\u001b[0m\n\u001b[0;32m      1\u001b[0m \u001b[1;32mfor\u001b[0m \u001b[0mrow\u001b[0m \u001b[1;32min\u001b[0m \u001b[0mrows\u001b[0m\u001b[1;33m:\u001b[0m\u001b[1;33m\u001b[0m\u001b[1;33m\u001b[0m\u001b[0m\n\u001b[1;32m----> 2\u001b[1;33m     \u001b[0mprint\u001b[0m\u001b[1;33m(\u001b[0m\u001b[0mrow\u001b[0m\u001b[1;33m[\u001b[0m\u001b[1;36m0\u001b[0m\u001b[1;33m]\u001b[0m\u001b[1;33m.\u001b[0m\u001b[0mdecode\u001b[0m\u001b[1;33m(\u001b[0m\u001b[1;34m'utf-8'\u001b[0m\u001b[1;33m)\u001b[0m\u001b[1;33m)\u001b[0m\u001b[1;33m\u001b[0m\u001b[1;33m\u001b[0m\u001b[0m\n\u001b[0m",
      "\u001b[1;31mAttributeError\u001b[0m: 'str' object has no attribute 'decode'"
     ]
    }
   ],
   "source": [
    "for row in rows:\n",
    "    print(row[0].decode('utf-8'))"
   ]
  },
  {
   "cell_type": "code",
   "execution_count": 67,
   "metadata": {},
   "outputs": [],
   "source": [
    "cnxn.commit()\n",
    "cnxn.close()"
   ]
  },
  {
   "cell_type": "code",
   "execution_count": 86,
   "metadata": {},
   "outputs": [
    {
     "ename": "SyntaxError",
     "evalue": "invalid syntax (<ipython-input-86-b2d5ead24e54>, line 2)",
     "output_type": "error",
     "traceback": [
      "\u001b[1;36m  File \u001b[1;32m\"<ipython-input-86-b2d5ead24e54>\"\u001b[1;36m, line \u001b[1;32m2\u001b[0m\n\u001b[1;33m    print(bs2.encode('utf-8).decode('gbk'))#我今天非常的困\u001b[0m\n\u001b[1;37m                                       ^\u001b[0m\n\u001b[1;31mSyntaxError\u001b[0m\u001b[1;31m:\u001b[0m invalid syntax\n"
     ]
    }
   ],
   "source": [
    "bs2 = b'ä¸\\x80é¼\\x93ä½\\x9cæ°\\x94å\\x90´å\\x86\\x9bæ\\x94»ç\\xa0´ç\\x9a\\x96å\\x9f\\x8e'\n",
    "print(bs2.encode('utf-8).decode('gbk'))#我今天非常的困"
   ]
  },
  {
   "cell_type": "code",
   "execution_count": 80,
   "metadata": {},
   "outputs": [],
   "source": [
    "row = rows[2]"
   ]
  },
  {
   "cell_type": "code",
   "execution_count": 81,
   "metadata": {},
   "outputs": [
    {
     "data": {
      "text/plain": [
       "('http://ws.nju.edu.cn/tcqa#ä¸\\x80é¼\\x93ä½\\x9cæ°\\x94å\\x90´å\\x86\\x9bæ\\x94»ç\\xa0´ç\\x9a\\x96å\\x9f\\x8e', )"
      ]
     },
     "execution_count": 81,
     "metadata": {},
     "output_type": "execute_result"
    }
   ],
   "source": [
    "row"
   ]
  },
  {
   "cell_type": "code",
   "execution_count": 82,
   "metadata": {},
   "outputs": [],
   "source": [
    "a = row[0]"
   ]
  },
  {
   "cell_type": "code",
   "execution_count": 83,
   "metadata": {},
   "outputs": [
    {
     "data": {
      "text/plain": [
       "str"
      ]
     },
     "execution_count": 83,
     "metadata": {},
     "output_type": "execute_result"
    }
   ],
   "source": [
    "type(a)"
   ]
  },
  {
   "cell_type": "code",
   "execution_count": 10,
   "metadata": {},
   "outputs": [],
   "source": [
    "from SPARQLWrapper import SPARQLWrapper, JSON"
   ]
  },
  {
   "cell_type": "code",
   "execution_count": 11,
   "metadata": {},
   "outputs": [],
   "source": [
    "conn = SPARQLWrapper(\"http://localhost:8890/sparql/\")"
   ]
  },
  {
   "cell_type": "code",
   "execution_count": 12,
   "metadata": {},
   "outputs": [],
   "source": [
    "query = '''\n",
    "prefix :      <http://ws.nju.edu.cn/tcqa#>\n",
    "prefix rdf:   <http://www.w3.org/1999/02/22-rdf-syntax-ns#>\n",
    "prefix owl:   <http://www.w3.org/2002/07/owl#>\n",
    "prefix xsd:   <http://www.w3.org/2001/XMLSchema#>\n",
    "prefix rdfs:  <http://www.w3.org/2000/01/rdf-schema#>\n",
    "\n",
    "        select distinct ?x from <http://localhost:8890/R3K>\n",
    "        where {\n",
    "            \n",
    "            ?a rdf:type :事件.\n",
    "            ?a :事件名 '张角受仙人赠书点化'.\n",
    "            ?a :章节 ?x.\n",
    "        \n",
    "        }\n",
    "'''"
   ]
  },
  {
   "cell_type": "code",
   "execution_count": 13,
   "metadata": {},
   "outputs": [],
   "source": [
    "conn.setQuery(query)\n",
    "conn.setReturnFormat(JSON)"
   ]
  },
  {
   "cell_type": "code",
   "execution_count": 14,
   "metadata": {},
   "outputs": [],
   "source": [
    "r = conn.query().convert()"
   ]
  },
  {
   "cell_type": "code",
   "execution_count": 15,
   "metadata": {},
   "outputs": [
    {
     "data": {
      "text/plain": [
       "{'head': {'link': [], 'vars': ['x']},\n",
       " 'results': {'distinct': False,\n",
       "  'ordered': True,\n",
       "  'bindings': [{'x': {'type': 'literal', 'value': '第1回第4段'}}]}}"
      ]
     },
     "execution_count": 15,
     "metadata": {},
     "output_type": "execute_result"
    }
   ],
   "source": [
    "r"
   ]
  },
  {
   "cell_type": "code",
   "execution_count": 10,
   "metadata": {},
   "outputs": [
    {
     "data": {
      "text/plain": [
       "dict"
      ]
     },
     "execution_count": 10,
     "metadata": {},
     "output_type": "execute_result"
    }
   ],
   "source": [
    "type(r)"
   ]
  },
  {
   "cell_type": "code",
   "execution_count": null,
   "metadata": {},
   "outputs": [],
   "source": []
  }
 ],
 "metadata": {
  "kernelspec": {
   "display_name": "Python 3",
   "language": "python",
   "name": "python3"
  },
  "language_info": {
   "codemirror_mode": {
    "name": "ipython",
    "version": 3
   },
   "file_extension": ".py",
   "mimetype": "text/x-python",
   "name": "python",
   "nbconvert_exporter": "python",
   "pygments_lexer": "ipython3",
   "version": "3.7.3"
  }
 },
 "nbformat": 4,
 "nbformat_minor": 2
}
